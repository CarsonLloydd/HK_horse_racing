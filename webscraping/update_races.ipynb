{
 "cells": [
  {
   "cell_type": "code",
   "execution_count": 1,
   "metadata": {},
   "outputs": [],
   "source": [
    "from selenium import webdriver\n",
    "from selenium.webdriver.chrome.options import Options \n",
    "from bs4 import BeautifulSoup\n",
    "import time\n",
    "import pandas as pd\n",
    "import numpy as np"
   ]
  },
  {
   "cell_type": "code",
   "execution_count": 2,
   "metadata": {},
   "outputs": [],
   "source": [
    "options = Options() \n",
    "chrome_path = r'\\Users\\User\\Documents\\chromedriver'"
   ]
  },
  {
   "cell_type": "code",
   "execution_count": 3,
   "metadata": {},
   "outputs": [],
   "source": [
    "options.add_argument('--window-size=500,300')"
   ]
  },
  {
   "cell_type": "code",
   "execution_count": 4,
   "metadata": {},
   "outputs": [],
   "source": [
    "driver = webdriver.Chrome(chrome_path, \n",
    "                              options=options)\n",
    "\n",
    "driver.set_window_size(1400,1000)"
   ]
  },
  {
   "cell_type": "code",
   "execution_count": 5,
   "metadata": {},
   "outputs": [],
   "source": [
    "driver.get('http://101.78.205.36/racing/information/English/Horse/OtherHorse.aspx?HorseId=HK_2017_B233')\n",
    "time.sleep(7)"
   ]
  },
  {
   "cell_type": "code",
   "execution_count": null,
   "metadata": {},
   "outputs": [],
   "source": []
  },
  {
   "cell_type": "code",
   "execution_count": 6,
   "metadata": {},
   "outputs": [],
   "source": [
    "page_source = driver.page_source\n",
    "soup = BeautifulSoup(page_source)\n",
    "tables = soup.find('table', attrs = {'class' : 'bigborder'})\n",
    "table = tables.prettify()\n",
    "df = pd.read_html(table, header = 0)[0]"
   ]
  },
  {
   "cell_type": "code",
   "execution_count": 15,
   "metadata": {},
   "outputs": [],
   "source": [
    "race_hist = df.drop([0,1,2,3,4,5,6,7,8,9,10,11,12,13,14,15,16,17,18,19,20,21,22,23,24,25,26,27,28,29,30,31,32,\n",
    "                     33,34,35])"
   ]
  },
  {
   "cell_type": "code",
   "execution_count": 16,
   "metadata": {},
   "outputs": [],
   "source": [
    "g = race_hist"
   ]
  },
  {
   "cell_type": "code",
   "execution_count": null,
   "metadata": {},
   "outputs": [],
   "source": []
  },
  {
   "cell_type": "code",
   "execution_count": 18,
   "metadata": {},
   "outputs": [],
   "source": [
    "def frmt(df):\n",
    "    global name\n",
    "    name = df.loc[1][0]"
   ]
  },
  {
   "cell_type": "code",
   "execution_count": 19,
   "metadata": {},
   "outputs": [],
   "source": [
    "def get_race_hist(df):\n",
    "    try:\n",
    "        page_source = driver.page_source\n",
    "        soup = BeautifulSoup(page_source)\n",
    "        tables = soup.find('table', attrs = {'class' : 'bigborder'})\n",
    "        table = tables.prettify()\n",
    "        df = pd.read_html(table, header = 0)[0]\n",
    "        df.dropna(how='all', inplace = True)\n",
    "        df.reset_index(drop = True, inplace = True)\n",
    "        prcs(df)\n",
    "    except:\n",
    "        return 'nothin'"
   ]
  },
  {
   "cell_type": "code",
   "execution_count": 20,
   "metadata": {},
   "outputs": [],
   "source": [
    "def prcs(df):\n",
    "    plcmnt = df['Pla.'].values\n",
    "    tdrop = []\n",
    "    for i, val in enumerate(plcmnt):\n",
    "        if val.endswith('Season'):\n",
    "            tdrop.append(i)\n",
    "    df.drop(tdrop, inplace = True)\n",
    "    df['hname'] = name\n",
    "    a = df.loc[[1]]\n",
    "    global g\n",
    "    g = pd.concat([g,a], ignore_index = True, sort = True)"
   ]
  },
  {
   "cell_type": "code",
   "execution_count": 21,
   "metadata": {},
   "outputs": [],
   "source": [
    "\n",
    "races = ['2','3','4','5','6','7','8','9','10','11','12']\n",
    "rows = ['1','2','3','4','5','6','7','8','9','10','11','12',\n",
    "        '13','14','15','16','17']\n",
    "for race in races:\n",
    "    for r in rows:\n",
    "        try:\n",
    "            time.sleep(3)\n",
    "            driver.get('http://101.78.205.36/racing/information/English/racing/LocalResults.aspx')\n",
    "            driver.find_element_by_xpath('/html/body/div/div[2]/table/tbody/tr/td[' + race + ']').click()\n",
    "            driver.find_element_by_xpath('/html/body/div/div[5]/table/tbody/tr[' + r + ']/td[3]/a').click()\n",
    "            page_source = driver.page_source\n",
    "            soup = BeautifulSoup(page_source)\n",
    "            tables = soup.findAll('table')\n",
    "            table = tables[0].prettify()\n",
    "            df = pd.read_html(table)[0]\n",
    "            frmt(df)\n",
    "            get_race_hist(df)\n",
    "\n",
    "        except:\n",
    "            continue\n",
    "\n"
   ]
  },
  {
   "cell_type": "code",
   "execution_count": 24,
   "metadata": {},
   "outputs": [],
   "source": [
    "dates = []\n",
    "retiredhorse = 0\n",
    "for date in g['Date'].values:\n",
    "    if date.endswith('2020'):\n",
    "        date = date[:6] + date[8:]\n",
    "        dates.append(date)\n",
    "        retiredhorse += 1\n",
    "    else:\n",
    "        dates.append(date)"
   ]
  },
  {
   "cell_type": "code",
   "execution_count": 25,
   "metadata": {},
   "outputs": [],
   "source": [
    "g['Date'] = dates"
   ]
  },
  {
   "cell_type": "code",
   "execution_count": null,
   "metadata": {},
   "outputs": [],
   "source": []
  },
  {
   "cell_type": "code",
   "execution_count": 27,
   "metadata": {},
   "outputs": [],
   "source": [
    "g.to_csv('update_races.csv', index = False)"
   ]
  },
  {
   "cell_type": "code",
   "execution_count": null,
   "metadata": {},
   "outputs": [],
   "source": []
  },
  {
   "cell_type": "code",
   "execution_count": 28,
   "metadata": {},
   "outputs": [],
   "source": [
    "driver.quit()"
   ]
  },
  {
   "cell_type": "code",
   "execution_count": 29,
   "metadata": {},
   "outputs": [],
   "source": [
    "if retiredhorse > 0:\n",
    "    g['RC/Track/  Course'] = g['RC/Track/  Course'].replace(np.nan,'')\n",
    "    g['RC  /Track/  Course'] = g['RC  /Track/  Course'].replace(np.nan,'')\n",
    "    g['RC  /Track/  Course'] = g['RC  /Track/  Course'] + g['RC/Track/  Course']"
   ]
  },
  {
   "cell_type": "code",
   "execution_count": 31,
   "metadata": {},
   "outputs": [],
   "source": [
    "rctc = g['RC  /Track/  Course'].values"
   ]
  },
  {
   "cell_type": "code",
   "execution_count": 32,
   "metadata": {},
   "outputs": [],
   "source": [
    "RC = []\n",
    "Track = []\n",
    "Course = []\n",
    "\n",
    "for row in rctc:\n",
    "    x = row.split(' / ')\n",
    "    if len(x) == 2:\n",
    "        Course.append(np.nan)\n",
    "    for i, cond in enumerate(x):\n",
    "        cond = cond.replace('\"', '')\n",
    "        if i == 0:\n",
    "            RC.append(cond)\n",
    "        elif i == 1:\n",
    "            Track.append(cond)\n",
    "        elif i == 2:\n",
    "            Course.append(cond)\n",
    "        else:\n",
    "            continue"
   ]
  },
  {
   "cell_type": "code",
   "execution_count": 33,
   "metadata": {},
   "outputs": [],
   "source": [
    "g['RC'] = RC\n",
    "g['Track'] = Track\n",
    "g['Course'] = Course"
   ]
  },
  {
   "cell_type": "code",
   "execution_count": 34,
   "metadata": {},
   "outputs": [],
   "source": [
    "g.drop('RC  /Track/  Course', axis = 1, inplace = True)"
   ]
  },
  {
   "cell_type": "code",
   "execution_count": 44,
   "metadata": {},
   "outputs": [],
   "source": [
    "col_len = len(g.columns)"
   ]
  },
  {
   "cell_type": "code",
   "execution_count": 46,
   "metadata": {},
   "outputs": [],
   "source": [
    "if col_len > 22:\n",
    "    g.drop('RC/Track/  Course', axis = 1, inplace = True)"
   ]
  },
  {
   "cell_type": "code",
   "execution_count": null,
   "metadata": {},
   "outputs": [],
   "source": []
  },
  {
   "cell_type": "code",
   "execution_count": null,
   "metadata": {},
   "outputs": [],
   "source": []
  },
  {
   "cell_type": "code",
   "execution_count": 47,
   "metadata": {},
   "outputs": [],
   "source": [
    "names = g['hname'].values"
   ]
  },
  {
   "cell_type": "code",
   "execution_count": 48,
   "metadata": {},
   "outputs": [],
   "source": [
    "hnames = []\n",
    "for name in names:\n",
    "    x = name.split(' (')\n",
    "    for i in x:\n",
    "        if i.endswith(')'):\n",
    "            continue\n",
    "        else:\n",
    "            hnames.append(i)"
   ]
  },
  {
   "cell_type": "code",
   "execution_count": 49,
   "metadata": {},
   "outputs": [],
   "source": [
    "g['hname'] = hnames"
   ]
  },
  {
   "cell_type": "code",
   "execution_count": null,
   "metadata": {},
   "outputs": [],
   "source": []
  },
  {
   "cell_type": "code",
   "execution_count": null,
   "metadata": {},
   "outputs": [],
   "source": []
  },
  {
   "cell_type": "code",
   "execution_count": 50,
   "metadata": {},
   "outputs": [],
   "source": [
    "g['U_raceno'] = g['Race  Index'] + ' ' + g['Date']"
   ]
  },
  {
   "cell_type": "code",
   "execution_count": null,
   "metadata": {},
   "outputs": [],
   "source": []
  },
  {
   "cell_type": "code",
   "execution_count": null,
   "metadata": {},
   "outputs": [],
   "source": []
  },
  {
   "cell_type": "code",
   "execution_count": 51,
   "metadata": {},
   "outputs": [],
   "source": [
    "g.drop('Video  Replay', axis = 1, inplace = True)\n",
    "g.drop('Rtg.', axis = 1, inplace = True)\n",
    "g.drop('Gear', axis = 1, inplace = True)\n",
    "g.drop('G', axis = 1, inplace = True)"
   ]
  },
  {
   "cell_type": "code",
   "execution_count": 1,
   "metadata": {},
   "outputs": [],
   "source": [
    "rh = pd.read_csv('race_hist.csv')"
   ]
  },
  {
   "cell_type": "code",
   "execution_count": 54,
   "metadata": {},
   "outputs": [],
   "source": [
    "# update the races file with the new races\n",
    "new_rh = pd.concat([rh, g], ignore_index = True, sort = True)"
   ]
  },
  {
   "cell_type": "code",
   "execution_count": 55,
   "metadata": {},
   "outputs": [],
   "source": [
    "new_rh.to_csv('race_hist.csv', index = False)"
   ]
  },
  {
   "cell_type": "code",
   "execution_count": null,
   "metadata": {},
   "outputs": [],
   "source": []
  },
  {
   "cell_type": "code",
   "execution_count": null,
   "metadata": {},
   "outputs": [],
   "source": []
  }
 ],
 "metadata": {
  "kernelspec": {
   "display_name": "Python 3",
   "language": "python",
   "name": "python3"
  },
  "language_info": {
   "codemirror_mode": {
    "name": "ipython",
    "version": 3
   },
   "file_extension": ".py",
   "mimetype": "text/x-python",
   "name": "python",
   "nbconvert_exporter": "python",
   "pygments_lexer": "ipython3",
   "version": "3.7.4"
  }
 },
 "nbformat": 4,
 "nbformat_minor": 4
}
