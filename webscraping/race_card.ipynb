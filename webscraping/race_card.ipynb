{
 "cells": [
  {
   "cell_type": "code",
   "execution_count": 3,
   "metadata": {},
   "outputs": [],
   "source": [
    "from selenium import webdriver\n",
    "from selenium.webdriver.chrome.options import Options \n",
    "from bs4 import BeautifulSoup\n",
    "import time\n",
    "import pandas as pd\n",
    "import numpy as np"
   ]
  },
  {
   "cell_type": "code",
   "execution_count": 2,
   "metadata": {},
   "outputs": [],
   "source": [
    "options = Options() \n",
    "chrome_path = '/Users/User/Documents/chromedriver'"
   ]
  },
  {
   "cell_type": "code",
   "execution_count": 3,
   "metadata": {},
   "outputs": [],
   "source": [
    "options.add_argument('--window-size=500,300')"
   ]
  },
  {
   "cell_type": "code",
   "execution_count": 4,
   "metadata": {},
   "outputs": [],
   "source": [
    "driver = webdriver.Chrome(chrome_path, \n",
    "                              options=options)\n",
    "\n",
    "driver.set_window_size(1400,1000)"
   ]
  },
  {
   "cell_type": "code",
   "execution_count": null,
   "metadata": {},
   "outputs": [],
   "source": []
  },
  {
   "cell_type": "code",
   "execution_count": 15,
   "metadata": {},
   "outputs": [],
   "source": [
    "driver.get('http://101.78.205.36/racing/Info/meeting/RaceCard/english/Local/20200223/ST/1')\n",
    "time.sleep(7)"
   ]
  },
  {
   "cell_type": "code",
   "execution_count": 16,
   "metadata": {},
   "outputs": [],
   "source": [
    "page_source = driver.page_source\n",
    "soup = BeautifulSoup(page_source)\n",
    "tables = soup.findAll('table', attrs = {'class' : 'draggable hiddenable'})\n",
    "table = tables[0].prettify()\n",
    "df = pd.read_html(table)[0]"
   ]
  },
  {
   "cell_type": "code",
   "execution_count": null,
   "metadata": {},
   "outputs": [],
   "source": []
  },
  {
   "cell_type": "code",
   "execution_count": null,
   "metadata": {},
   "outputs": [],
   "source": []
  },
  {
   "cell_type": "code",
   "execution_count": 17,
   "metadata": {},
   "outputs": [],
   "source": [
    "page_source = driver.page_source\n",
    "soup = BeautifulSoup(page_source)\n",
    "tables = soup.findAll('table', attrs = {'class' : 'font13 lineH20 tdAlignL'})\n",
    "table = tables[0].prettify()\n",
    "race_info = pd.read_html(table)[0]"
   ]
  },
  {
   "cell_type": "code",
   "execution_count": 18,
   "metadata": {},
   "outputs": [],
   "source": [
    "def month_string_to_number(string):\n",
    "    m = {\n",
    "        'jan': '01',\n",
    "        'feb': '02',\n",
    "        'mar': '03',\n",
    "        'apr': '04',\n",
    "         'may': '05',\n",
    "         'jun': '06',\n",
    "         'jul': '07',\n",
    "         'aug': '08',\n",
    "         'sep': '09',\n",
    "         'oct': '10',\n",
    "         'nov': '11',\n",
    "         'dec': '12'\n",
    "        }\n",
    "    s = string.strip()[:3].lower()\n",
    "\n",
    "    try:\n",
    "        out = m[s]\n",
    "        return out\n",
    "    except:\n",
    "        raise ValueError('Not a month')"
   ]
  },
  {
   "cell_type": "code",
   "execution_count": 19,
   "metadata": {},
   "outputs": [],
   "source": [
    "def add_race_info(ri):\n",
    "    rinfo = race_info[0].values[0]\n",
    "    try:\n",
    "        race_class = rinfo.split('Class ')[1]\n",
    "    except:\n",
    "        try:\n",
    "            race_class = rinfo.split('Group ')[1]\n",
    "        except:\n",
    "            race_class = rinfo.split('4 Year')\n",
    "            race_class = '4YO'\n",
    "    if 'Turf' in race_info[0].values[0]:\n",
    "        rinfo.split('Turf')\n",
    "        df['Race  Class'] = race_class\n",
    "        dist = rinfo.split(', ')[6]\n",
    "        dist = dist.split()\n",
    "        dist = dist[0].replace('M','')\n",
    "        df['Dist.'] = dist\n",
    "        course = rinfo.split(', ')[5]\n",
    "        course = course.split()\n",
    "        course = course[0].replace('\"', '')\n",
    "        df['Course'] = course\n",
    "        track = rinfo.split(', ')[4]\n",
    "        track = track.split()\n",
    "        track = track[1]\n",
    "        df['Track'] = track\n",
    "        rc = rinfo.split(', ')[3]\n",
    "        rc = rc.split()\n",
    "        rc = rc[0][0] + rc[1][0]\n",
    "        df['RC'] = rc\n",
    "        date = rinfo.split(', ')[1]\n",
    "        date = date + ' ' + rinfo.split(', ')[2]\n",
    "        date = date.split()\n",
    "        month = month_string_to_number(date[0])\n",
    "        day = date[1]\n",
    "        year = date[2]\n",
    "        year = year[:2]\n",
    "        date = day + '/' + month + '/' + year\n",
    "        df['Date'] = date\n",
    "    else:\n",
    "        df['Race  Class'] = race_class\n",
    "        dist = rinfo.split(', ')[5]\n",
    "        dist = dist.split()\n",
    "        dist = dist[0].replace('M','')\n",
    "        df['Dist.'] = dist\n",
    "        df['Course'] = np.nan\n",
    "        df['Track'] = 'AWT'\n",
    "        rc = rinfo.split(', ')[3]\n",
    "        rc = rc.split()\n",
    "        rc = rc[0][0] + rc[1][0]\n",
    "        df['RC'] = rc\n",
    "        date = rinfo.split(', ')[1]\n",
    "        date = date + ' ' + rinfo.split(', ')[2]\n",
    "        date = date.split()\n",
    "        month = month_string_to_number(date[0])\n",
    "        day = date[1]\n",
    "        year = date[2]\n",
    "        year = year[:2]\n",
    "        date = day + '/' + month + '/' + year\n",
    "        df['Date'] = date"
   ]
  },
  {
   "cell_type": "code",
   "execution_count": 20,
   "metadata": {},
   "outputs": [],
   "source": [
    "add_race_info(race_info)"
   ]
  },
  {
   "cell_type": "code",
   "execution_count": 21,
   "metadata": {},
   "outputs": [],
   "source": [
    "df.drop([0,1,2,3,4,5,6,7,8,9,10,11,12,13],inplace = True)"
   ]
  },
  {
   "cell_type": "code",
   "execution_count": 25,
   "metadata": {},
   "outputs": [],
   "source": [
    "g = df"
   ]
  },
  {
   "cell_type": "code",
   "execution_count": null,
   "metadata": {},
   "outputs": [],
   "source": []
  },
  {
   "cell_type": "code",
   "execution_count": null,
   "metadata": {},
   "outputs": [],
   "source": []
  },
  {
   "cell_type": "code",
   "execution_count": 23,
   "metadata": {},
   "outputs": [],
   "source": [
    "races = ['1', '2', '3', '4', '5', '6', '7', '8', '9', '10','11']\n",
    "raceno = 1\n",
    "for race in races:\n",
    "    try:\n",
    "        time.sleep(2)\n",
    "        driver.get('http://101.78.205.36/racing/Info/meeting/RaceCard/english/Local/')\n",
    "        time.sleep(5)\n",
    "        if int(race) > 1:\n",
    "            driver.find_element_by_id('racecard_rt_' + race + '_r').click()\n",
    "            time.sleep(5)\n",
    "            page_source = driver.page_source\n",
    "            soup = BeautifulSoup(page_source)\n",
    "            tables = soup.findAll('table', attrs = {'class' : 'draggable hiddenable'})\n",
    "            table = tables[0].prettify()\n",
    "            df = pd.read_html(table)[0]\n",
    "            time.sleep(2)\n",
    "            page_source = driver.page_source\n",
    "            soup = BeautifulSoup(page_source)\n",
    "            tables = soup.findAll('table', attrs = {'class' : 'font13 lineH20 tdAlignL'})\n",
    "            table = tables[0].prettify()\n",
    "            race_info = pd.read_html(table)[0]\n",
    "            add_race_info(race_info)\n",
    "            df['Race Index'] = str(raceno)\n",
    "            raceno = raceno + 1\n",
    "            g = pd.concat([g,df], ignore_index = True, sort = True)\n",
    "        else:\n",
    "            time.sleep(5)\n",
    "            page_source = driver.page_source\n",
    "            soup = BeautifulSoup(page_source)\n",
    "            tables = soup.findAll('table', attrs = {'class' : 'draggable hiddenable'})\n",
    "            table = tables[0].prettify()\n",
    "            df = pd.read_html(table)[0]\n",
    "            time.sleep(2)\n",
    "            page_source = driver.page_source\n",
    "            soup = BeautifulSoup(page_source)\n",
    "            tables = soup.findAll('table', attrs = {'class' : 'font13 lineH20 tdAlignL'})\n",
    "            table = tables[0].prettify()\n",
    "            race_info = pd.read_html(table)[0]\n",
    "            add_race_info(race_info)\n",
    "            df['Race Index'] = str(raceno)\n",
    "            raceno = raceno + 1\n",
    "            g = pd.concat([g,df], ignore_index = True, sort = True)\n",
    "    except:\n",
    "        continue"
   ]
  },
  {
   "cell_type": "code",
   "execution_count": 50,
   "metadata": {},
   "outputs": [
    {
     "data": {
      "text/plain": [
       "Index(['Colour', 'Course', 'Date', 'Dist.', 'Draw', 'Gear', 'Horse',\n",
       "       'Horse No.', 'Horse Wt. (Declaration)', 'Jockey', 'Last 6 Runs',\n",
       "       'Priority', 'RC', 'Race  Class', 'Race Index', 'Rtg.', 'Rtg.+/-',\n",
       "       'Track', 'Trainer', 'Wt.'],\n",
       "      dtype='object')"
      ]
     },
     "execution_count": 50,
     "metadata": {},
     "output_type": "execute_result"
    }
   ],
   "source": [
    "g.columns"
   ]
  },
  {
   "cell_type": "code",
   "execution_count": 51,
   "metadata": {},
   "outputs": [],
   "source": [
    "g.drop('Colour', axis = 1, inplace = True)\n",
    "g.drop('Horse No.', axis = 1, inplace = True)\n",
    "g.drop('Last 6 Runs', axis = 1, inplace = True)\n",
    "g.drop('Priority', axis = 1, inplace = True)\n",
    "g.drop('Rtg.+/-', axis = 1, inplace = True)\n",
    "g.drop('Rtg.', axis = 1, inplace = True)"
   ]
  },
  {
   "cell_type": "code",
   "execution_count": 52,
   "metadata": {},
   "outputs": [],
   "source": [
    "g.drop('Gear', axis = 1, inplace = True)"
   ]
  },
  {
   "cell_type": "code",
   "execution_count": 55,
   "metadata": {},
   "outputs": [],
   "source": [
    "g.rename(columns = {'Horse' : 'hname', 'Wt.' : 'Act.  Wt.',\n",
    "                   'Horse Wt. (Declaration)' : 'Declar.  Horse Wt.',\n",
    "                   'Draw':'Dr'}, inplace = True)"
   ]
  },
  {
   "cell_type": "code",
   "execution_count": null,
   "metadata": {},
   "outputs": [],
   "source": []
  },
  {
   "cell_type": "code",
   "execution_count": 56,
   "metadata": {},
   "outputs": [],
   "source": [
    "hinfo = pd.read_csv('m_horse_info.csv')"
   ]
  },
  {
   "cell_type": "code",
   "execution_count": 57,
   "metadata": {},
   "outputs": [],
   "source": [
    "future_races = g.join(hinfo.set_index('hname'), on='hname')"
   ]
  },
  {
   "cell_type": "code",
   "execution_count": 58,
   "metadata": {},
   "outputs": [],
   "source": [
    "future_races.to_csv('future_races.csv', index = False)"
   ]
  },
  {
   "cell_type": "code",
   "execution_count": null,
   "metadata": {},
   "outputs": [],
   "source": []
  },
  {
   "cell_type": "code",
   "execution_count": 59,
   "metadata": {},
   "outputs": [],
   "source": [
    "driver.quit()"
   ]
  },
  {
   "cell_type": "code",
   "execution_count": null,
   "metadata": {},
   "outputs": [],
   "source": []
  }
 ],
 "metadata": {
  "kernelspec": {
   "display_name": "Python 3",
   "language": "python",
   "name": "python3"
  },
  "language_info": {
   "codemirror_mode": {
    "name": "ipython",
    "version": 3
   },
   "file_extension": ".py",
   "mimetype": "text/x-python",
   "name": "python",
   "nbconvert_exporter": "python",
   "pygments_lexer": "ipython3",
   "version": "3.7.4"
  }
 },
 "nbformat": 4,
 "nbformat_minor": 4
}
