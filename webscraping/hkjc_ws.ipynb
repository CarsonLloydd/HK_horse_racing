{
 "cells": [
  {
   "cell_type": "code",
   "execution_count": 1,
   "metadata": {},
   "outputs": [],
   "source": [
    "from selenium import webdriver\n",
    "from selenium.webdriver.chrome.options import Options \n",
    "from bs4 import BeautifulSoup\n",
    "import time"
   ]
  },
  {
   "cell_type": "code",
   "execution_count": 2,
   "metadata": {},
   "outputs": [],
   "source": [
    "options = Options() \n",
    "chrome_path = r'\\Users\\User\\Documents\\chromedriver'"
   ]
  },
  {
   "cell_type": "code",
   "execution_count": 3,
   "metadata": {},
   "outputs": [],
   "source": [
    "options.add_argument('--window-size=500,300')"
   ]
  },
  {
   "cell_type": "code",
   "execution_count": 4,
   "metadata": {},
   "outputs": [],
   "source": [
    "driver = webdriver.Chrome(chrome_path, \n",
    "                              options=options)\n",
    "\n",
    "driver.set_window_size(1400,1000)"
   ]
  },
  {
   "cell_type": "code",
   "execution_count": 19,
   "metadata": {},
   "outputs": [],
   "source": [
    "driver.get('https://racing.hkjc.com/racing/information/english/Horse/Horse.aspx?HorseId=HK_2018_C336&Option=1')"
   ]
  },
  {
   "cell_type": "code",
   "execution_count": 20,
   "metadata": {},
   "outputs": [],
   "source": [
    "import pandas as pd\n",
    "page_source = driver.page_source\n",
    "soup = BeautifulSoup(page_source)\n",
    "tables = soup.findAll('table')\n",
    "table = tables[0].prettify()\n",
    "df = pd.read_html(table)[0]"
   ]
  },
  {
   "cell_type": "code",
   "execution_count": 21,
   "metadata": {},
   "outputs": [],
   "source": [
    "name = df.loc[1][0]"
   ]
  },
  {
   "cell_type": "code",
   "execution_count": 22,
   "metadata": {},
   "outputs": [],
   "source": [
    "df.drop(1, axis = 1, inplace = True)\n",
    "df.drop([0,1,2,3,4], inplace = True)"
   ]
  },
  {
   "cell_type": "code",
   "execution_count": 23,
   "metadata": {},
   "outputs": [],
   "source": [
    "y = df.set_index(0)\n",
    "y = y.T"
   ]
  },
  {
   "cell_type": "code",
   "execution_count": 24,
   "metadata": {},
   "outputs": [],
   "source": [
    "y['hname'] = name"
   ]
  },
  {
   "cell_type": "code",
   "execution_count": 25,
   "metadata": {},
   "outputs": [
    {
     "data": {
      "text/html": [
       "<div>\n",
       "<style scoped>\n",
       "    .dataframe tbody tr th:only-of-type {\n",
       "        vertical-align: middle;\n",
       "    }\n",
       "\n",
       "    .dataframe tbody tr th {\n",
       "        vertical-align: top;\n",
       "    }\n",
       "\n",
       "    .dataframe thead th {\n",
       "        text-align: right;\n",
       "    }\n",
       "</style>\n",
       "<table border=\"1\" class=\"dataframe\">\n",
       "  <thead>\n",
       "    <tr style=\"text-align: right;\">\n",
       "      <th></th>\n",
       "      <th>Country of Origin / Age</th>\n",
       "      <th>Colour / Sex</th>\n",
       "      <th>Import Type</th>\n",
       "      <th>Season Stakes*</th>\n",
       "      <th>Total Stakes*</th>\n",
       "      <th>No. of 1-2-3-Starts*</th>\n",
       "      <th>No. of starts in past 10  race meetings</th>\n",
       "      <th>Current Stable Location  (Arrival Date)</th>\n",
       "      <th>Trainer</th>\n",
       "      <th>Owner</th>\n",
       "      <th>Current Rating</th>\n",
       "      <th>Start of  Season Rating</th>\n",
       "      <th>Sire</th>\n",
       "      <th>Dam</th>\n",
       "      <th>Dam's Sire</th>\n",
       "      <th>Same Sire</th>\n",
       "      <th>*Includes local and overseas records and earnings</th>\n",
       "      <th>hname</th>\n",
       "    </tr>\n",
       "  </thead>\n",
       "  <tbody>\n",
       "    <tr>\n",
       "      <td>2</td>\n",
       "      <td>AUS / 3</td>\n",
       "      <td>Chestnut / Gelding</td>\n",
       "      <td>PPG</td>\n",
       "      <td>$7,361,000</td>\n",
       "      <td>$9,116,600</td>\n",
       "      <td>5-0-2-7</td>\n",
       "      <td>0</td>\n",
       "      <td>Hong Kong  (23/12/2018)</td>\n",
       "      <td>J Moore</td>\n",
       "      <td>Andrea Tien &amp; Arthur Cheng</td>\n",
       "      <td>119</td>\n",
       "      <td>89</td>\n",
       "      <td>Sebring</td>\n",
       "      <td>Pinocchio</td>\n",
       "      <td>Encosta de Lago</td>\n",
       "      <td>ALLOY STAR  ASSIMILATE  BIG LUCK CHAMP  DIAMON...</td>\n",
       "      <td>*Includes local and overseas records and earnings</td>\n",
       "      <td>AETHERO (C336)</td>\n",
       "    </tr>\n",
       "  </tbody>\n",
       "</table>\n",
       "</div>"
      ],
      "text/plain": [
       "0 Country of Origin / Age        Colour / Sex Import Type Season Stakes*  \\\n",
       "2                 AUS / 3  Chestnut / Gelding         PPG     $7,361,000   \n",
       "\n",
       "0 Total Stakes* No. of 1-2-3-Starts* No. of starts in past 10  race meetings  \\\n",
       "2    $9,116,600              5-0-2-7                                       0   \n",
       "\n",
       "0 Current Stable Location  (Arrival Date)  Trainer  \\\n",
       "2                 Hong Kong  (23/12/2018)  J Moore   \n",
       "\n",
       "0                       Owner Current Rating Start of  Season Rating     Sire  \\\n",
       "2  Andrea Tien & Arthur Cheng            119                      89  Sebring   \n",
       "\n",
       "0        Dam       Dam's Sire  \\\n",
       "2  Pinocchio  Encosta de Lago   \n",
       "\n",
       "0                                          Same Sire  \\\n",
       "2  ALLOY STAR  ASSIMILATE  BIG LUCK CHAMP  DIAMON...   \n",
       "\n",
       "0  *Includes local and overseas records and earnings           hname  \n",
       "2  *Includes local and overseas records and earnings  AETHERO (C336)  "
      ]
     },
     "execution_count": 25,
     "metadata": {},
     "output_type": "execute_result"
    }
   ],
   "source": [
    "y"
   ]
  },
  {
   "cell_type": "code",
   "execution_count": 26,
   "metadata": {},
   "outputs": [],
   "source": [
    "x = df.set_index(0)\n",
    "x = x.T"
   ]
  },
  {
   "cell_type": "code",
   "execution_count": 27,
   "metadata": {},
   "outputs": [],
   "source": [
    "x['hname'] = name"
   ]
  },
  {
   "cell_type": "code",
   "execution_count": 28,
   "metadata": {},
   "outputs": [],
   "source": [
    "f = x"
   ]
  },
  {
   "cell_type": "code",
   "execution_count": 29,
   "metadata": {},
   "outputs": [],
   "source": [
    "f.drop(2, inplace = True)"
   ]
  },
  {
   "cell_type": "code",
   "execution_count": 30,
   "metadata": {},
   "outputs": [],
   "source": [
    "def frmt(df):\n",
    "    global name\n",
    "    name = df.loc[1][0]\n",
    "    df.drop(1, axis = 1, inplace = True)\n",
    "    df.drop([0,1,2,3,4], inplace = True)\n",
    "    y = df.set_index(0)\n",
    "    y = y.T\n",
    "    y['hname'] = name\n",
    "    global f\n",
    "    f = pd.concat([f,y], ignore_index = True, sort = True)"
   ]
  },
  {
   "cell_type": "code",
   "execution_count": 31,
   "metadata": {},
   "outputs": [],
   "source": [
    "page_source = driver.page_source\n",
    "soup = BeautifulSoup(page_source)\n",
    "tables = soup.find('table', attrs = {'class' : 'bigborder'})\n",
    "table = tables.prettify()\n",
    "df = pd.read_html(table, header = 0)[0]\n",
    "df.dropna(how='all', inplace = True)\n",
    "df.reset_index(drop = True, inplace = True)"
   ]
  },
  {
   "cell_type": "code",
   "execution_count": 32,
   "metadata": {},
   "outputs": [],
   "source": [
    "plcmnt = df['Pla.'].values\n",
    "tdrop = []\n",
    "for i, val in enumerate(plcmnt):\n",
    "    if val.endswith('Season'):\n",
    "        tdrop.append(i)"
   ]
  },
  {
   "cell_type": "code",
   "execution_count": 33,
   "metadata": {},
   "outputs": [
    {
     "data": {
      "text/plain": [
       "[0, 5]"
      ]
     },
     "execution_count": 33,
     "metadata": {},
     "output_type": "execute_result"
    }
   ],
   "source": [
    "tdrop"
   ]
  },
  {
   "cell_type": "code",
   "execution_count": 34,
   "metadata": {},
   "outputs": [],
   "source": [
    "df.drop(tdrop, inplace = True)"
   ]
  },
  {
   "cell_type": "code",
   "execution_count": 35,
   "metadata": {},
   "outputs": [],
   "source": [
    "race_hist = df.drop([1,2,3,4,6,7,8])"
   ]
  },
  {
   "cell_type": "code",
   "execution_count": 36,
   "metadata": {},
   "outputs": [],
   "source": [
    "g = race_hist"
   ]
  },
  {
   "cell_type": "code",
   "execution_count": 38,
   "metadata": {},
   "outputs": [],
   "source": [
    "def prcs(df):\n",
    "    plcmnt = df['Pla.'].values\n",
    "    tdrop = []\n",
    "    for i, val in enumerate(plcmnt):\n",
    "        if val.endswith('Season'):\n",
    "            tdrop.append(i)\n",
    "    df.drop(tdrop, inplace = True)\n",
    "    df['hname'] = name\n",
    "    a = df\n",
    "    global g\n",
    "    g = pd.concat([g,a], ignore_index = True, sort = True)"
   ]
  },
  {
   "cell_type": "code",
   "execution_count": 39,
   "metadata": {},
   "outputs": [],
   "source": [
    "def get_race_hist(df):\n",
    "    try:\n",
    "        driver.find_element_by_id('hf_allr_btn_r').click()\n",
    "        page_source = driver.page_source\n",
    "        soup = BeautifulSoup(page_source)\n",
    "        tables = soup.find('table', attrs = {'class' : 'bigborder'})\n",
    "        table = tables.prettify()\n",
    "        df = pd.read_html(table, header = 0)[0]\n",
    "        df.dropna(how='all', inplace = True)\n",
    "        df.reset_index(drop = True, inplace = True)\n",
    "        prcs(df)\n",
    "    except:\n",
    "        return 'nothin'"
   ]
  },
  {
   "cell_type": "code",
   "execution_count": 41,
   "metadata": {},
   "outputs": [],
   "source": [
    "alpha = ['A','B', 'C', 'D', 'E', 'F', 'G', 'H', 'I', 'J', 'K', 'L', 'M', 'N', 'O', 'P', 'Q', 'R', 'S', 'T', 'U', 'V', 'W', 'X', 'Y', 'Z']\n",
    "row = ['1','2','3','4','5','6','7','8','9','10','11','12','13','14','15','16','17','18','19','20','21','22','23','24','25','26','27','28','29','30','31','32','33','34','35','36','37','38','39','40','41','42','43','44','45','46','47','48','49','50','51','52','53','54','55','56','57','58','59','60','61','62','63','64','65','66','67','68','69','70','71','72','73','74','75','76','77','78','79','80']\n",
    "column = ['1','2','3']\n",
    "for letter in alpha:\n",
    "    driver.get('https://racing.hkjc.com/racing/information/english/Horse/SelectHorsebyChar.aspx?ordertype=' + letter)\n",
    "    try:\n",
    "        for r in row:\n",
    "            for c in column:\n",
    "                time.sleep(1)\n",
    "                driver.find_element_by_xpath('/html/body/div/p/table/tbody/tr[2]/td/table/tbody/tr[' + r + ']/td[' + c + ']/table/tbody/tr/td[1]/li/a').click()\n",
    "                time.sleep(1)\n",
    "                page_source = driver.page_source\n",
    "                soup = BeautifulSoup(page_source)\n",
    "                tables = soup.findAll('table')\n",
    "                table = tables[0].prettify()\n",
    "                df = pd.read_html(table)[0]\n",
    "                frmt(df)\n",
    "                time.sleep(1)\n",
    "                get_race_hist(df)\n",
    "                time.sleep(1)\n",
    "                driver.get('https://racing.hkjc.com/racing/information/english/Horse/SelectHorsebyChar.aspx?ordertype=' + letter)\n",
    "    except:\n",
    "        continue"
   ]
  },
  {
   "cell_type": "code",
   "execution_count": 35,
   "metadata": {},
   "outputs": [],
   "source": [
    "f.drop('*Includes local and overseas records and earnings', axis = 1, inplace = True)"
   ]
  },
  {
   "cell_type": "code",
   "execution_count": 36,
   "metadata": {},
   "outputs": [],
   "source": [
    "f.drop('PP Pre-import races footage',axis = 1, inplace = True)"
   ]
  },
  {
   "cell_type": "code",
   "execution_count": 37,
   "metadata": {},
   "outputs": [],
   "source": [
    "f.to_csv('horse_info.csv', index = False)"
   ]
  },
  {
   "cell_type": "code",
   "execution_count": 38,
   "metadata": {},
   "outputs": [],
   "source": [
    "g.to_csv('race_hist.csv', index = False)"
   ]
  },
  {
   "cell_type": "code",
   "execution_count": 42,
   "metadata": {},
   "outputs": [],
   "source": [
    "driver.quit()"
   ]
  },
  {
   "cell_type": "code",
   "execution_count": null,
   "metadata": {},
   "outputs": [],
   "source": []
  }
 ],
 "metadata": {
  "kernelspec": {
   "display_name": "Python 3",
   "language": "python",
   "name": "python3"
  },
  "language_info": {
   "codemirror_mode": {
    "name": "ipython",
    "version": 3
   },
   "file_extension": ".py",
   "mimetype": "text/x-python",
   "name": "python",
   "nbconvert_exporter": "python",
   "pygments_lexer": "ipython3",
   "version": "3.7.4"
  }
 },
 "nbformat": 4,
 "nbformat_minor": 4
}
