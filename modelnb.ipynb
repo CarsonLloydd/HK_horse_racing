{
 "cells": [
  {
   "cell_type": "code",
   "execution_count": 24,
   "metadata": {},
   "outputs": [],
   "source": [
    "#import necessary packages\n",
    "\n",
    "import pandas as pd\n",
    "import numpy as np\n",
    "import category_encoders as ce\n",
    "from category_encoders import WOEEncoder\n",
    "import xgboost as xgb\n",
    "from sklearn.ensemble import RandomForestClassifier, AdaBoostClassifier, GradientBoostingClassifier,ExtraTreesClassifier\n",
    "from sklearn.preprocessing import LabelEncoder\n",
    "from sklearn.metrics import confusion_matrix\n",
    "from imxgboost.imbalance_xgb import imbalance_xgboost as imb_xgb\n",
    "\n",
    "import matplotlib.pyplot as plt\n",
    "import seaborn as sns; sns.set()\n",
    "%matplotlib inline\n",
    "\n",
    "from sklearn.tree import DecisionTreeClassifier\n",
    "from sklearn.linear_model import LogisticRegression\n",
    "from sklearn.preprocessing import KBinsDiscretizer, FunctionTransformer\n",
    "from sklearn.model_selection import cross_val_score\n",
    "from category_encoders import OneHotEncoder\n",
    "from sklearn.pipeline import make_pipeline, Pipeline\n",
    "\n",
    "from sklearn.model_selection import GridSearchCV, train_test_split\n",
    "from sklearn.metrics import roc_auc_score, accuracy_score\n",
    "\n",
    "from sklearn.datasets import make_classification\n",
    "from sklearn.model_selection import train_test_split, GridSearchCV\n",
    "from hyperopt import fmin, tpe, hp, STATUS_OK, Trials\n",
    "\n",
    "rng = np.random.RandomState(42)\n",
    "\n",
    "import warnings\n",
    "warnings.filterwarnings(\"ignore\")"
   ]
  },
  {
   "cell_type": "code",
   "execution_count": 25,
   "metadata": {},
   "outputs": [],
   "source": [
    "#read in all of the data and combine them into one dataframe called train"
   ]
  },
  {
   "cell_type": "code",
   "execution_count": 26,
   "metadata": {},
   "outputs": [],
   "source": [
    "rtrain = pd.read_csv('m_race_hist.csv')"
   ]
  },
  {
   "cell_type": "code",
   "execution_count": 27,
   "metadata": {},
   "outputs": [],
   "source": [
    "itrain = pd.read_csv('m_horse_info.csv')"
   ]
  },
  {
   "cell_type": "code",
   "execution_count": 28,
   "metadata": {},
   "outputs": [],
   "source": [
    "train = rtrain.join(itrain.set_index('hname'), on='hname')"
   ]
  },
  {
   "cell_type": "code",
   "execution_count": 29,
   "metadata": {},
   "outputs": [],
   "source": [
    "#create a target variable"
   ]
  },
  {
   "cell_type": "code",
   "execution_count": 30,
   "metadata": {},
   "outputs": [],
   "source": [
    "target = train['Pla.']"
   ]
  },
  {
   "cell_type": "code",
   "execution_count": 31,
   "metadata": {},
   "outputs": [],
   "source": [
    "train.drop('Pla.', axis = 1, inplace = True)"
   ]
  },
  {
   "cell_type": "code",
   "execution_count": 32,
   "metadata": {},
   "outputs": [],
   "source": [
    "target = target.astype(int)"
   ]
  },
  {
   "cell_type": "code",
   "execution_count": 33,
   "metadata": {},
   "outputs": [],
   "source": [
    "target = target.where(target > 3, 1)"
   ]
  },
  {
   "cell_type": "code",
   "execution_count": 34,
   "metadata": {},
   "outputs": [],
   "source": [
    "target = target.where(target <= 3, 0)"
   ]
  },
  {
   "cell_type": "code",
   "execution_count": 35,
   "metadata": {},
   "outputs": [
    {
     "data": {
      "text/plain": [
       "0    33083\n",
       "1    11161\n",
       "Name: Pla., dtype: int64"
      ]
     },
     "execution_count": 35,
     "metadata": {},
     "output_type": "execute_result"
    }
   ],
   "source": [
    "target.value_counts()"
   ]
  },
  {
   "cell_type": "code",
   "execution_count": 36,
   "metadata": {},
   "outputs": [],
   "source": [
    "#Target encode all of the categorical variables"
   ]
  },
  {
   "cell_type": "code",
   "execution_count": 37,
   "metadata": {},
   "outputs": [],
   "source": [
    "used_cols = [c for c in train.columns.tolist() if c not in ['Date','Rtg.','Finish Time',\n",
    "                                                            'LBW','Race  Index',\n",
    "                                                           'Current Rating',\n",
    "                                                            'Running  Position','Win Odds']]\n",
    "X, y = train[used_cols], target"
   ]
  },
  {
   "cell_type": "code",
   "execution_count": 40,
   "metadata": {},
   "outputs": [],
   "source": [
    "X.columns"
   ]
  },
  {
   "cell_type": "code",
   "execution_count": 39,
   "metadata": {},
   "outputs": [],
   "source": [
    "cate = [c for c in X.columns.tolist() if c not in ['Act.  Wt.','Declar.  Horse Wt.',\n",
    "                                                    'Dist.','Dr','Race Class']]"
   ]
  },
  {
   "cell_type": "code",
   "execution_count": 41,
   "metadata": {},
   "outputs": [],
   "source": [
    "ce_target_encoder = ce.TargetEncoder(cols = cate, smoothing=.3)\n",
    "ce_target_encoder.fit(X, target)"
   ]
  },
  {
   "cell_type": "code",
   "execution_count": 23,
   "metadata": {},
   "outputs": [],
   "source": [
    "X = ce_target_encoder.transform(X)"
   ]
  },
  {
   "cell_type": "code",
   "execution_count": null,
   "metadata": {},
   "outputs": [],
   "source": []
  },
  {
   "cell_type": "code",
   "execution_count": null,
   "metadata": {},
   "outputs": [],
   "source": []
  },
  {
   "cell_type": "code",
   "execution_count": 406,
   "metadata": {},
   "outputs": [],
   "source": [
    "#create and fit an xgb model"
   ]
  },
  {
   "cell_type": "code",
   "execution_count": 4,
   "metadata": {},
   "outputs": [],
   "source": [
    "# top 3\n",
    "clf = xgb.XGBClassifier(max_depth=11, n_estimators=300, colsample_bytree=0.8, \n",
    "                        subsample=0.8, nthread=10, learning_rate=.1, n_jobs = -1)\n",
    "clf.fit(X, y)\n",
    "# plot the important features #\n",
    "fig, ax = plt.subplots(figsize=(8,10))\n",
    "xgb.plot_importance(clf, max_num_features=50, height=0.8, ax=ax)\n",
    "plt.show()"
   ]
  },
  {
   "cell_type": "code",
   "execution_count": 26,
   "metadata": {},
   "outputs": [
    {
     "name": "stdout",
     "output_type": "stream",
     "text": [
      "0.8830184891289438 +/- 0.002944017036134901\n"
     ]
    }
   ],
   "source": [
    "scores = cross_val_score(clf, X, y, cv=5, scoring='roc_auc')\n",
    "print(scores.mean(), \"+/-\", scores.std())"
   ]
  },
  {
   "cell_type": "code",
   "execution_count": 46,
   "metadata": {},
   "outputs": [
    {
     "data": {
      "text/html": [
       "<div>\n",
       "<style scoped>\n",
       "    .dataframe tbody tr th:only-of-type {\n",
       "        vertical-align: middle;\n",
       "    }\n",
       "\n",
       "    .dataframe tbody tr th {\n",
       "        vertical-align: top;\n",
       "    }\n",
       "\n",
       "    .dataframe thead th {\n",
       "        text-align: right;\n",
       "    }\n",
       "</style>\n",
       "<table border=\"1\" class=\"dataframe\">\n",
       "  <thead>\n",
       "    <tr style=\"text-align: right;\">\n",
       "      <th></th>\n",
       "      <th>Act.  Wt.</th>\n",
       "      <th>Course</th>\n",
       "      <th>Declar.  Horse Wt.</th>\n",
       "      <th>Dist.</th>\n",
       "      <th>Dr</th>\n",
       "      <th>Jockey</th>\n",
       "      <th>RC</th>\n",
       "      <th>Race  Class</th>\n",
       "      <th>Track</th>\n",
       "      <th>Trainer</th>\n",
       "      <th>hname</th>\n",
       "    </tr>\n",
       "  </thead>\n",
       "  <tbody>\n",
       "    <tr>\n",
       "      <td>6430</td>\n",
       "      <td>117</td>\n",
       "      <td>C+3</td>\n",
       "      <td>1069</td>\n",
       "      <td>1000</td>\n",
       "      <td>10</td>\n",
       "      <td>K C Leung</td>\n",
       "      <td>ST</td>\n",
       "      <td>3</td>\n",
       "      <td>TURF</td>\n",
       "      <td>A T Millard</td>\n",
       "      <td>SUPREME FLIGHT</td>\n",
       "    </tr>\n",
       "    <tr>\n",
       "      <td>3561</td>\n",
       "      <td>133</td>\n",
       "      <td>A+3</td>\n",
       "      <td>1066</td>\n",
       "      <td>1400</td>\n",
       "      <td>4</td>\n",
       "      <td>N Callan</td>\n",
       "      <td>ST</td>\n",
       "      <td>3</td>\n",
       "      <td>Turf</td>\n",
       "      <td>D E Ferraris</td>\n",
       "      <td>LOBO'S LEGEND</td>\n",
       "    </tr>\n",
       "    <tr>\n",
       "      <td>40256</td>\n",
       "      <td>133</td>\n",
       "      <td>C</td>\n",
       "      <td>1137</td>\n",
       "      <td>1400</td>\n",
       "      <td>8</td>\n",
       "      <td>N Callan</td>\n",
       "      <td>ST</td>\n",
       "      <td>4</td>\n",
       "      <td>TURF</td>\n",
       "      <td>J Moore</td>\n",
       "      <td>MIDNIGHT RATTLER</td>\n",
       "    </tr>\n",
       "    <tr>\n",
       "      <td>41475</td>\n",
       "      <td>115</td>\n",
       "      <td>C</td>\n",
       "      <td>1047</td>\n",
       "      <td>1200</td>\n",
       "      <td>12</td>\n",
       "      <td>W M Lai</td>\n",
       "      <td>HV</td>\n",
       "      <td>2</td>\n",
       "      <td>TURF</td>\n",
       "      <td>C H Yip</td>\n",
       "      <td>JIMSON THE FAMOUS</td>\n",
       "    </tr>\n",
       "    <tr>\n",
       "      <td>36589</td>\n",
       "      <td>131</td>\n",
       "      <td>NaN</td>\n",
       "      <td>1007</td>\n",
       "      <td>1650</td>\n",
       "      <td>5</td>\n",
       "      <td>C Y Ho</td>\n",
       "      <td>ST</td>\n",
       "      <td>2</td>\n",
       "      <td>AWT</td>\n",
       "      <td>K W Lui</td>\n",
       "      <td>CHARLIE VICTOR</td>\n",
       "    </tr>\n",
       "  </tbody>\n",
       "</table>\n",
       "</div>"
      ],
      "text/plain": [
       "       Act.  Wt. Course  Declar.  Horse Wt.  Dist.  Dr     Jockey  RC  \\\n",
       "6430         117    C+3                1069   1000  10  K C Leung  ST   \n",
       "3561         133    A+3                1066   1400   4   N Callan  ST   \n",
       "40256        133      C                1137   1400   8   N Callan  ST   \n",
       "41475        115      C                1047   1200  12    W M Lai  HV   \n",
       "36589        131    NaN                1007   1650   5     C Y Ho  ST   \n",
       "\n",
       "       Race  Class Track       Trainer              hname  \n",
       "6430             3  TURF   A T Millard     SUPREME FLIGHT  \n",
       "3561             3  Turf  D E Ferraris      LOBO'S LEGEND  \n",
       "40256            4  TURF       J Moore   MIDNIGHT RATTLER  \n",
       "41475            2  TURF       C H Yip  JIMSON THE FAMOUS  \n",
       "36589            2   AWT       K W Lui     CHARLIE VICTOR  "
      ]
     },
     "execution_count": 46,
     "metadata": {},
     "output_type": "execute_result"
    }
   ],
   "source": [
    "X.sample(5)"
   ]
  },
  {
   "cell_type": "code",
   "execution_count": null,
   "metadata": {},
   "outputs": [],
   "source": []
  }
 ],
 "metadata": {
  "kernelspec": {
   "display_name": "Python 3",
   "language": "python",
   "name": "python3"
  },
  "language_info": {
   "codemirror_mode": {
    "name": "ipython",
    "version": 3
   },
   "file_extension": ".py",
   "mimetype": "text/x-python",
   "name": "python",
   "nbconvert_exporter": "python",
   "pygments_lexer": "ipython3",
   "version": "3.6.9"
  }
 },
 "nbformat": 4,
 "nbformat_minor": 4
}
